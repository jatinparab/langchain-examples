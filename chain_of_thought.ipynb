{
  "nbformat": 4,
  "nbformat_minor": 0,
  "metadata": {
    "colab": {
      "provenance": [],
      "authorship_tag": "ABX9TyNLEX56J9WFI669H2rSJeRM",
      "include_colab_link": true
    },
    "kernelspec": {
      "name": "python3",
      "display_name": "Python 3"
    },
    "language_info": {
      "name": "python"
    }
  },
  "cells": [
    {
      "cell_type": "markdown",
      "metadata": {
        "id": "view-in-github",
        "colab_type": "text"
      },
      "source": [
        "<a href=\"https://colab.research.google.com/github/jatinparab/langchain-examples/blob/main/chain_of_thought.ipynb\" target=\"_parent\"><img src=\"https://colab.research.google.com/assets/colab-badge.svg\" alt=\"Open In Colab\"/></a>"
      ]
    },
    {
      "cell_type": "code",
      "execution_count": null,
      "metadata": {
        "id": "kG23Bkftyc6R"
      },
      "outputs": [],
      "source": [
        "!pip -q install langchain huggingface_hub openai google-search-results tiktoken wikipedia langchain_openai langchainhub"
      ]
    },
    {
      "cell_type": "code",
      "source": [
        "from langchain.agents import load_tools\n",
        "from langchain.agents import initialize_agent, create_react_agent\n",
        "from langchain.agents import AgentExecutor\n",
        "from langchain import hub\n",
        "from langchain_openai import ChatOpenAI, OpenAI"
      ],
      "metadata": {
        "id": "44xa1akNyhIY"
      },
      "execution_count": null,
      "outputs": []
    },
    {
      "cell_type": "code",
      "source": [
        "import os\n",
        "from google.colab import userdata\n",
        "\n",
        "os.environ[\"OPENAI_API_KEY\"] = userdata.get('OPENAI_API_KEY')\n",
        "os.environ[\"SERPAPI_API_KEY\"] = userdata.get('SERPAPI_API_KEY')"
      ],
      "metadata": {
        "id": "6qTYAFRdzPJs"
      },
      "execution_count": null,
      "outputs": []
    },
    {
      "cell_type": "code",
      "source": [
        "llm = ChatOpenAI()"
      ],
      "metadata": {
        "id": "6r5M1BbjyilU"
      },
      "execution_count": null,
      "outputs": []
    },
    {
      "cell_type": "code",
      "source": [
        "tools = load_tools([\"serpapi\", \"llm-math\"], llm=llm)"
      ],
      "metadata": {
        "id": "C78i2035yjfM"
      },
      "execution_count": null,
      "outputs": []
    },
    {
      "cell_type": "code",
      "source": [
        "prompt = hub.pull(\"hwchase17/react-chat\")\n",
        "agent = create_react_agent(llm, tools, prompt)\n",
        "agent_executor = AgentExecutor(agent=agent, tools=tools, verbose=True)"
      ],
      "metadata": {
        "id": "g_mwOSRvykZ1"
      },
      "execution_count": null,
      "outputs": []
    },
    {
      "cell_type": "code",
      "source": [
        "# question = \"Hi, how are you?\"\n",
        "question = \"Who is the United States President? What is his current age raised divided by 2?\"\n",
        "# question = \"What are the 2 most populated states in India? What is the sum of population of these 2 states?\""
      ],
      "metadata": {
        "id": "Sj5R4WE2ymHT"
      },
      "execution_count": null,
      "outputs": []
    },
    {
      "cell_type": "code",
      "source": [
        "result = agent_executor.invoke({\"input\": question, \"chat_history\": \"\"})\n",
        "print(result['output'])\n"
      ],
      "metadata": {
        "id": "QdKZ5I0oynEJ",
        "outputId": "3985fbf7-c5c3-4dcf-b27f-c1b824b74d75",
        "colab": {
          "base_uri": "https://localhost:8080/"
        }
      },
      "execution_count": null,
      "outputs": [
        {
          "output_type": "stream",
          "name": "stdout",
          "text": [
            "\n",
            "\n",
            "\u001b[1m> Entering new AgentExecutor chain...\u001b[0m\n",
            "\u001b[32;1m\u001b[1;3mThought: Do I need to use a tool? Yes\n",
            "Action: Search\n",
            "Action Input: Current age of United States President\u001b[0m\u001b[36;1m\u001b[1;3m81 years\u001b[0m\u001b[32;1m\u001b[1;3mDo I need to use a tool? Yes\n",
            "Action: Calculator\n",
            "Action Input: 81 / 2\u001b[0m\u001b[33;1m\u001b[1;3mAnswer: 40.5\u001b[0m\u001b[32;1m\u001b[1;3mDo I need to use a tool? No\n",
            "Final Answer: The current President of the United States is Joe Biden. His current age is 81, so half of 81 is 40.5.\u001b[0m\n",
            "\n",
            "\u001b[1m> Finished chain.\u001b[0m\n",
            "The current President of the United States is Joe Biden. His current age is 81, so half of 81 is 40.5.\n"
          ]
        }
      ]
    },
    {
      "cell_type": "code",
      "source": [],
      "metadata": {
        "id": "-nJchl_E5YcD"
      },
      "execution_count": null,
      "outputs": []
    }
  ]
}