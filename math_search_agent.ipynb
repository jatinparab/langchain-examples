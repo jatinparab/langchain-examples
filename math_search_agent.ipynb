{
  "nbformat": 4,
  "nbformat_minor": 0,
  "metadata": {
    "colab": {
      "provenance": [],
      "authorship_tag": "ABX9TyMPQuYD4xrbVU+KL/kBUWKO",
      "include_colab_link": true
    },
    "kernelspec": {
      "name": "python3",
      "display_name": "Python 3"
    },
    "language_info": {
      "name": "python"
    }
  },
  "cells": [
    {
      "cell_type": "markdown",
      "metadata": {
        "id": "view-in-github",
        "colab_type": "text"
      },
      "source": [
        "<a href=\"https://colab.research.google.com/github/jatinparab/langchain-examples/blob/main/math_search_agent.ipynb\" target=\"_parent\"><img src=\"https://colab.research.google.com/assets/colab-badge.svg\" alt=\"Open In Colab\"/></a>"
      ]
    },
    {
      "cell_type": "code",
      "execution_count": 28,
      "metadata": {
        "id": "kG23Bkftyc6R"
      },
      "outputs": [],
      "source": [
        "!pip -q install langchain huggingface_hub openai google-search-results tiktoken wikipedia langchain_openai langchainhub faiss-cpu"
      ]
    },
    {
      "cell_type": "code",
      "source": [
        "from langchain.agents import load_tools\n",
        "from langchain.agents import initialize_agent, create_react_agent\n",
        "from langchain.tools.retriever import create_retriever_tool\n",
        "from langchain.agents import AgentExecutor\n",
        "from langchain import hub\n",
        "from langchain_openai import ChatOpenAI, OpenAI\n",
        "from langchain_community.vectorstores import FAISS\n",
        "from langchain_openai import ChatOpenAI, OpenAIEmbeddings"
      ],
      "metadata": {
        "id": "44xa1akNyhIY",
        "colab": {
          "base_uri": "https://localhost:8080/",
          "height": 17
        },
        "outputId": "7e8f04b4-51d5-4960-88c4-257c895b8342"
      },
      "execution_count": 103,
      "outputs": [
        {
          "output_type": "display_data",
          "data": {
            "text/plain": [
              "<IPython.core.display.HTML object>"
            ],
            "text/html": [
              "\n",
              "  <style>\n",
              "    pre {\n",
              "        white-space: pre-wrap;\n",
              "    }\n",
              "  </style>\n",
              "  "
            ]
          },
          "metadata": {}
        }
      ]
    },
    {
      "cell_type": "code",
      "source": [
        "from IPython.display import HTML, display\n",
        "def set_css():\n",
        "  display(HTML('''\n",
        "  <style>\n",
        "    pre {\n",
        "        white-space: pre-wrap;\n",
        "    }\n",
        "  </style>\n",
        "  '''))\n",
        "get_ipython().events.register('pre_run_cell', set_css)"
      ],
      "metadata": {
        "colab": {
          "base_uri": "https://localhost:8080/",
          "height": 17
        },
        "id": "8vVojpZQi2K8",
        "outputId": "a4565fab-e810-40b4-d1cd-900ae84d035c"
      },
      "execution_count": 104,
      "outputs": [
        {
          "output_type": "display_data",
          "data": {
            "text/plain": [
              "<IPython.core.display.HTML object>"
            ],
            "text/html": [
              "\n",
              "  <style>\n",
              "    pre {\n",
              "        white-space: pre-wrap;\n",
              "    }\n",
              "  </style>\n",
              "  "
            ]
          },
          "metadata": {}
        }
      ]
    },
    {
      "cell_type": "code",
      "source": [
        "import os\n",
        "from google.colab import userdata\n",
        "\n",
        "os.environ[\"OPENAI_API_KEY\"] = userdata.get('OPENAI_API_KEY')\n",
        "os.environ[\"SERPAPI_API_KEY\"] = userdata.get('SERPAPI_API_KEY')"
      ],
      "metadata": {
        "id": "6qTYAFRdzPJs"
      },
      "execution_count": 30,
      "outputs": []
    },
    {
      "cell_type": "code",
      "source": [
        "llm = ChatOpenAI(model=\"gpt-4\", temperature=0)"
      ],
      "metadata": {
        "id": "6r5M1BbjyilU",
        "colab": {
          "base_uri": "https://localhost:8080/",
          "height": 17
        },
        "outputId": "aecfd20e-c050-4d09-ecc5-e3ac3d466ab9"
      },
      "execution_count": 84,
      "outputs": [
        {
          "output_type": "display_data",
          "data": {
            "text/plain": [
              "<IPython.core.display.HTML object>"
            ],
            "text/html": [
              "\n",
              "  <style>\n",
              "    pre {\n",
              "        white-space: pre-wrap;\n",
              "    }\n",
              "  </style>\n",
              "  "
            ]
          },
          "metadata": {}
        }
      ]
    },
    {
      "cell_type": "code",
      "source": [
        "tools = load_tools([\"serpapi\", \"llm-math\"], llm=llm)"
      ],
      "metadata": {
        "id": "C78i2035yjfM",
        "colab": {
          "base_uri": "https://localhost:8080/",
          "height": 17
        },
        "outputId": "b2a8910d-b79d-438d-d32c-47b7854e0588"
      },
      "execution_count": 85,
      "outputs": [
        {
          "output_type": "display_data",
          "data": {
            "text/plain": [
              "<IPython.core.display.HTML object>"
            ],
            "text/html": [
              "\n",
              "  <style>\n",
              "    pre {\n",
              "        white-space: pre-wrap;\n",
              "    }\n",
              "  </style>\n",
              "  "
            ]
          },
          "metadata": {}
        }
      ]
    },
    {
      "cell_type": "code",
      "source": [
        "texts = [\n",
        "    \"George Washington was the first president of USA.\",\n",
        "    \"He was born on Feb 22.\",\n",
        "    \"He had 5 siblings.\",\n",
        "    \"He died on Dec 14th.\",\n",
        "]\n",
        "vectorstore = FAISS.from_texts(texts, embedding=OpenAIEmbeddings())\n",
        "retriever = vectorstore.as_retriever(search_kwargs={'k': 2})\n",
        "retriever_tool = create_retriever_tool(\n",
        "    retriever,\n",
        "    \"george_washington_search\",\n",
        "    \"Search for information about George Washington. For any questions about George Washington, you must use this tool!\",\n",
        ")\n",
        "tools.append(retriever_tool)"
      ],
      "metadata": {
        "colab": {
          "base_uri": "https://localhost:8080/",
          "height": 17
        },
        "id": "2UwJ9u2YPUyZ",
        "outputId": "20d0812f-a0a6-4940-b438-98dd27d625e7"
      },
      "execution_count": 86,
      "outputs": [
        {
          "output_type": "display_data",
          "data": {
            "text/plain": [
              "<IPython.core.display.HTML object>"
            ],
            "text/html": [
              "\n",
              "  <style>\n",
              "    pre {\n",
              "        white-space: pre-wrap;\n",
              "    }\n",
              "  </style>\n",
              "  "
            ]
          },
          "metadata": {}
        }
      ]
    },
    {
      "cell_type": "code",
      "source": [
        "prompt = hub.pull(\"hwchase17/react-chat\")\n",
        "agent = create_react_agent(llm, tools, prompt)\n",
        "agent_executor = AgentExecutor(agent=agent, tools=tools, verbose=True)\n",
        "additional_instruction = \"Don't stop until you've answered all questions: \""
      ],
      "metadata": {
        "id": "g_mwOSRvykZ1",
        "colab": {
          "base_uri": "https://localhost:8080/",
          "height": 17
        },
        "outputId": "26c43834-3aa2-42f3-8967-43015e95ef96"
      },
      "execution_count": 97,
      "outputs": [
        {
          "output_type": "display_data",
          "data": {
            "text/plain": [
              "<IPython.core.display.HTML object>"
            ],
            "text/html": [
              "\n",
              "  <style>\n",
              "    pre {\n",
              "        white-space: pre-wrap;\n",
              "    }\n",
              "  </style>\n",
              "  "
            ]
          },
          "metadata": {}
        }
      ]
    },
    {
      "cell_type": "code",
      "source": [
        "question = \"Hi, how are you?\"\n",
        "# question = \"Who is Jatin Parab? What is his profession?\"\n",
        "# question = \"What are the 2 most populated states in India? What is the sum of population of these 2 states?\"\n",
        "# question = \"Where is Codecademy's headquarter? Who was the first president of that country? How many siblings did the president have? What is the number of siblings divded by 5?\"\n",
        "result = agent_executor.invoke({\"input\": f\"{additional_instruction}{question}\", \"chat_history\": \"\"})\n",
        "print(result['output'])"
      ],
      "metadata": {
        "id": "Sj5R4WE2ymHT",
        "colab": {
          "base_uri": "https://localhost:8080/",
          "height": 364
        },
        "outputId": "a1429e6b-3fff-4e72-fc1b-aec5706edd12"
      },
      "execution_count": 101,
      "outputs": [
        {
          "output_type": "display_data",
          "data": {
            "text/plain": [
              "<IPython.core.display.HTML object>"
            ],
            "text/html": [
              "\n",
              "  <style>\n",
              "    pre {\n",
              "        white-space: pre-wrap;\n",
              "    }\n",
              "  </style>\n",
              "  "
            ]
          },
          "metadata": {}
        },
        {
          "output_type": "stream",
          "name": "stdout",
          "text": [
            "\n",
            "\n",
            "\u001b[1m> Entering new AgentExecutor chain...\u001b[0m\n",
            "\u001b[32;1m\u001b[1;3mThought: Do I need to use a tool? Yes\n",
            "Action: Search\n",
            "Action Input: Most populated states in India\u001b[0m\u001b[36;1m\u001b[1;3m['1 (S1), Uttar Pradesh, 199,812,341, 16.51%, 20.2%, 155,317,278 · 2 (S2), Maharashtra, 112,374,333, 9.28%, 16%, 61,556,074 · 3 (S3), Bihar, 104,099,452, 8.6%, 25.4 ...', \"Almost half of the country's population lives in the five highest populous states, namely, Uttar Pradesh, Bihar, Maharashtra, West Bengal and Madhya Pradesh.\", 'The 5 most populated states in India are Uttar Pradesh, Maharashtra, Bihar, West Bengal, and Madhya Pradesh. Q2 ...', 'Uttar Pradesh is the most populous country subdivision in the world at 232 million people, while Sikkim, in the northeast of the country, is the ...', 'The most populated states in India are Uttar Pradesh, Maharashtra, and Bihar. These states boast significant populations, contributing to India ...', '1. Uttar Pradesh, 60,274,800 ; 2. Maharashtra, 32,002,500 ; 3. Bihar, 29,085,900 ; 4. West Bengal, 26,300,670 ...', 'Most Populated States of India. Andhra Pradesh, the state with 5.30 crore people, takes the tenth spot in this top 10 list.', 'Most Populated States in India ; Maharashtra, 112,372,333 ; Bihar, 104,099,452 ; West Bengal, 91,276,115 ; Andhra Pradesh, 84,580,777.', \"Hindus experienced their largest population growth by number in Uttar Pradesh, India's most populous state – increasing by 25 million (2.5 crore) ...\", 'Which state is largest in India? Area wise, Rajasthan is the largest state of India and population wise, Uttar Pradesh is the largest state.']\u001b[0m\u001b[32;1m\u001b[1;3mDo I need to use a tool? Yes\n",
            "Action: Calculator\n",
            "Action Input: 199812341 + 112374333\u001b[0m\u001b[33;1m\u001b[1;3mAnswer: 312186674\u001b[0m\u001b[32;1m\u001b[1;3mDo I need to use a tool? No\n",
            "Final Answer: The two most populated states in India are Uttar Pradesh and Maharashtra. The sum of the population of these two states is approximately 312,186,674.\u001b[0m\n",
            "\n",
            "\u001b[1m> Finished chain.\u001b[0m\n",
            "The two most populated states in India are Uttar Pradesh and Maharashtra. The sum of the population of these two states is approximately 312,186,674.\n"
          ]
        }
      ]
    },
    {
      "cell_type": "code",
      "source": [],
      "metadata": {
        "id": "-nJchl_E5YcD"
      },
      "execution_count": 98,
      "outputs": []
    }
  ]
}