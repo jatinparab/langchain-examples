{
  "nbformat": 4,
  "nbformat_minor": 0,
  "metadata": {
    "colab": {
      "provenance": [],
      "authorship_tag": "ABX9TyO/YBwdukRRS0VpsIcGooxm",
      "include_colab_link": true
    },
    "kernelspec": {
      "name": "python3",
      "display_name": "Python 3"
    },
    "language_info": {
      "name": "python"
    }
  },
  "cells": [
    {
      "cell_type": "markdown",
      "metadata": {
        "id": "view-in-github",
        "colab_type": "text"
      },
      "source": [
        "<a href=\"https://colab.research.google.com/github/jatinparab/langchain-examples/blob/main/math_search_agent.ipynb\" target=\"_parent\"><img src=\"https://colab.research.google.com/assets/colab-badge.svg\" alt=\"Open In Colab\"/></a>"
      ]
    },
    {
      "cell_type": "code",
      "execution_count": 28,
      "metadata": {
        "id": "kG23Bkftyc6R"
      },
      "outputs": [],
      "source": [
        "!pip -q install langchain huggingface_hub openai google-search-results tiktoken wikipedia langchain_openai langchainhub faiss-cpu"
      ]
    },
    {
      "cell_type": "code",
      "source": [
        "from langchain.agents import load_tools\n",
        "from langchain.agents import initialize_agent, create_react_agent\n",
        "from langchain.tools.retriever import create_retriever_tool\n",
        "from langchain.agents import AgentExecutor\n",
        "from langchain import hub\n",
        "from langchain_openai import ChatOpenAI, OpenAI\n",
        "from langchain_community.vectorstores import FAISS\n",
        "from langchain_openai import ChatOpenAI, OpenAIEmbeddings"
      ],
      "metadata": {
        "id": "44xa1akNyhIY"
      },
      "execution_count": 29,
      "outputs": []
    },
    {
      "cell_type": "code",
      "source": [
        "from IPython.display import HTML, display\n",
        "\n",
        "def set_css():\n",
        "  display(HTML('''\n",
        "  <style>\n",
        "    pre {\n",
        "        white-space: pre-wrap;\n",
        "    }\n",
        "  </style>\n",
        "  '''))\n",
        "get_ipython().events.register('pre_run_cell', set_css)"
      ],
      "metadata": {
        "id": "8vVojpZQi2K8"
      },
      "execution_count": 62,
      "outputs": []
    },
    {
      "cell_type": "code",
      "source": [
        "import os\n",
        "from google.colab import userdata\n",
        "\n",
        "os.environ[\"OPENAI_API_KEY\"] = userdata.get('OPENAI_API_KEY')\n",
        "os.environ[\"SERPAPI_API_KEY\"] = userdata.get('SERPAPI_API_KEY')"
      ],
      "metadata": {
        "id": "6qTYAFRdzPJs"
      },
      "execution_count": 30,
      "outputs": []
    },
    {
      "cell_type": "code",
      "source": [
        "llm = ChatOpenAI(model=\"gpt-4\", temperature=0)"
      ],
      "metadata": {
        "id": "6r5M1BbjyilU",
        "outputId": "aecfd20e-c050-4d09-ecc5-e3ac3d466ab9",
        "colab": {
          "base_uri": "https://localhost:8080/",
          "height": 17
        }
      },
      "execution_count": 84,
      "outputs": [
        {
          "output_type": "display_data",
          "data": {
            "text/plain": [
              "<IPython.core.display.HTML object>"
            ],
            "text/html": [
              "\n",
              "  <style>\n",
              "    pre {\n",
              "        white-space: pre-wrap;\n",
              "    }\n",
              "  </style>\n",
              "  "
            ]
          },
          "metadata": {}
        }
      ]
    },
    {
      "cell_type": "code",
      "source": [
        "tools = load_tools([\"serpapi\", \"llm-math\"], llm=llm)"
      ],
      "metadata": {
        "id": "C78i2035yjfM",
        "outputId": "b2a8910d-b79d-438d-d32c-47b7854e0588",
        "colab": {
          "base_uri": "https://localhost:8080/",
          "height": 17
        }
      },
      "execution_count": 85,
      "outputs": [
        {
          "output_type": "display_data",
          "data": {
            "text/plain": [
              "<IPython.core.display.HTML object>"
            ],
            "text/html": [
              "\n",
              "  <style>\n",
              "    pre {\n",
              "        white-space: pre-wrap;\n",
              "    }\n",
              "  </style>\n",
              "  "
            ]
          },
          "metadata": {}
        }
      ]
    },
    {
      "cell_type": "code",
      "source": [
        "texts = [\n",
        "    \"George Washington was the first president of USA.\",\n",
        "    \"He was born on Feb 22.\",\n",
        "    \"He had 5 siblings.\",\n",
        "    \"He died on Dec 14th.\",\n",
        "]\n",
        "vectorstore = FAISS.from_texts(texts, embedding=OpenAIEmbeddings())\n",
        "retriever = vectorstore.as_retriever(search_kwargs={'k': 2})\n",
        "retriever_tool = create_retriever_tool(\n",
        "    retriever,\n",
        "    \"george_washington_search\",\n",
        "    \"Search for information about George Washington. For any questions about George Washington, you must use this tool!\",\n",
        ")\n",
        "tools.append(retriever_tool)"
      ],
      "metadata": {
        "id": "2UwJ9u2YPUyZ",
        "outputId": "20d0812f-a0a6-4940-b438-98dd27d625e7",
        "colab": {
          "base_uri": "https://localhost:8080/",
          "height": 17
        }
      },
      "execution_count": 86,
      "outputs": [
        {
          "output_type": "display_data",
          "data": {
            "text/plain": [
              "<IPython.core.display.HTML object>"
            ],
            "text/html": [
              "\n",
              "  <style>\n",
              "    pre {\n",
              "        white-space: pre-wrap;\n",
              "    }\n",
              "  </style>\n",
              "  "
            ]
          },
          "metadata": {}
        }
      ]
    },
    {
      "cell_type": "code",
      "source": [
        "prompt = hub.pull(\"hwchase17/react-chat\")\n",
        "agent = create_react_agent(llm, tools, prompt)\n",
        "agent_executor = AgentExecutor(agent=agent, tools=tools, verbose=True)"
      ],
      "metadata": {
        "id": "g_mwOSRvykZ1",
        "outputId": "6ea317af-4d07-40de-a766-0c96442af40e",
        "colab": {
          "base_uri": "https://localhost:8080/",
          "height": 17
        }
      },
      "execution_count": 87,
      "outputs": [
        {
          "output_type": "display_data",
          "data": {
            "text/plain": [
              "<IPython.core.display.HTML object>"
            ],
            "text/html": [
              "\n",
              "  <style>\n",
              "    pre {\n",
              "        white-space: pre-wrap;\n",
              "    }\n",
              "  </style>\n",
              "  "
            ]
          },
          "metadata": {}
        }
      ]
    },
    {
      "cell_type": "code",
      "source": [
        "# question = \"Hi, how are you?\"\n",
        "# question = \"Who is Jatin Parab? What is his profession?\"\n",
        "# question = \"What are the 2 most populated states in India? What is the sum of population of these 2 states?\"\n",
        "question = \"Where is Codecademy's headquarter? Who was the first president of that country? How many siblings did the president have? What is the number of siblings divded by 5?\"\n",
        "result = agent_executor.invoke({\"input\": question, \"chat_history\": \"\"})\n",
        "print(result['output'])"
      ],
      "metadata": {
        "id": "Sj5R4WE2ymHT",
        "outputId": "09f8a5ad-d797-4387-e027-cf92316937a7",
        "colab": {
          "base_uri": "https://localhost:8080/",
          "height": 347
        }
      },
      "execution_count": 90,
      "outputs": [
        {
          "output_type": "display_data",
          "data": {
            "text/plain": [
              "<IPython.core.display.HTML object>"
            ],
            "text/html": [
              "\n",
              "  <style>\n",
              "    pre {\n",
              "        white-space: pre-wrap;\n",
              "    }\n",
              "  </style>\n",
              "  "
            ]
          },
          "metadata": {}
        },
        {
          "output_type": "stream",
          "name": "stdout",
          "text": [
            "\n",
            "\n",
            "\u001b[1m> Entering new AgentExecutor chain...\u001b[0m\n",
            "\u001b[32;1m\u001b[1;3mThought: Do I need to use a tool? Yes\n",
            "Action: Search\n",
            "Action Input: Codecademy headquarters location\u001b[0m\u001b[36;1m\u001b[1;3mCodecademy Frequently Asked Questions (FAQ) Codecademy was founded in 2011. Where is Codecademy's headquarters? Codecademy's headquarters is located at 49 West 27th Street, New York.\u001b[0m\u001b[32;1m\u001b[1;3mDo I need to use a tool? Yes\n",
            "Action: george_washington_search\n",
            "Action Input: George Washington siblings\u001b[0m\u001b[38;5;200m\u001b[1;3mHe had 5 siblings.\n",
            "\n",
            "George Washington was the first president of USA.\u001b[0m\u001b[32;1m\u001b[1;3mDo I need to use a tool? Yes\n",
            "Action: Calculator\n",
            "Action Input: 5 / 5\u001b[0m\u001b[33;1m\u001b[1;3mAnswer: 1.0\u001b[0m\u001b[32;1m\u001b[1;3mDo I need to use a tool? No\n",
            "Final Answer: Codecademy's headquarters is located in New York, USA. The first president of the USA was George Washington. George Washington had 5 siblings. When you divide the number of his siblings by 5, the result is 1.0.\u001b[0m\n",
            "\n",
            "\u001b[1m> Finished chain.\u001b[0m\n",
            "Codecademy's headquarters is located in New York, USA. The first president of the USA was George Washington. George Washington had 5 siblings. When you divide the number of his siblings by 5, the result is 1.0.\n"
          ]
        }
      ]
    },
    {
      "cell_type": "code",
      "source": [],
      "metadata": {
        "id": "-nJchl_E5YcD"
      },
      "execution_count": 88,
      "outputs": []
    }
  ]
}