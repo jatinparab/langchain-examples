{
  "nbformat": 4,
  "nbformat_minor": 0,
  "metadata": {
    "colab": {
      "provenance": [],
      "authorship_tag": "ABX9TyNDanEa4Rhh5qUiAflcwZ++",
      "include_colab_link": true
    },
    "kernelspec": {
      "name": "python3",
      "display_name": "Python 3"
    },
    "language_info": {
      "name": "python"
    }
  },
  "cells": [
    {
      "cell_type": "markdown",
      "metadata": {
        "id": "view-in-github",
        "colab_type": "text"
      },
      "source": [
        "<a href=\"https://colab.research.google.com/github/jatinparab/langchain-examples/blob/main/math_search_agent.ipynb\" target=\"_parent\"><img src=\"https://colab.research.google.com/assets/colab-badge.svg\" alt=\"Open In Colab\"/></a>"
      ]
    },
    {
      "cell_type": "code",
      "execution_count": 34,
      "metadata": {
        "id": "kG23Bkftyc6R"
      },
      "outputs": [],
      "source": [
        "!pip -q install langchain huggingface_hub openai google-search-results tiktoken wikipedia langchain_openai langchainhub"
      ]
    },
    {
      "cell_type": "code",
      "source": [
        "from langchain.agents import load_tools\n",
        "from langchain.agents import initialize_agent, create_react_agent\n",
        "from langchain.agents import AgentExecutor\n",
        "from langchain import hub\n",
        "from langchain_openai import ChatOpenAI, OpenAI"
      ],
      "metadata": {
        "id": "44xa1akNyhIY"
      },
      "execution_count": 42,
      "outputs": []
    },
    {
      "cell_type": "code",
      "source": [
        "import os\n",
        "from google.colab import userdata\n",
        "\n",
        "os.environ[\"OPENAI_API_KEY\"] = userdata.get('OPENAI_API_KEY')\n",
        "os.environ[\"SERPAPI_API_KEY\"] = userdata.get('SERPAPI_API_KEY')"
      ],
      "metadata": {
        "id": "6qTYAFRdzPJs"
      },
      "execution_count": 36,
      "outputs": []
    },
    {
      "cell_type": "code",
      "source": [
        "llm = ChatOpenAI()"
      ],
      "metadata": {
        "id": "6r5M1BbjyilU"
      },
      "execution_count": 49,
      "outputs": []
    },
    {
      "cell_type": "code",
      "source": [
        "tools = load_tools([\"serpapi\", \"llm-math\"], llm=llm)"
      ],
      "metadata": {
        "id": "C78i2035yjfM"
      },
      "execution_count": 50,
      "outputs": []
    },
    {
      "cell_type": "code",
      "source": [
        "prompt = hub.pull(\"hwchase17/react-chat\")\n",
        "agent = create_react_agent(llm, tools, prompt)\n",
        "agent_executor = AgentExecutor(agent=agent, tools=tools, verbose=True)"
      ],
      "metadata": {
        "id": "g_mwOSRvykZ1"
      },
      "execution_count": 51,
      "outputs": []
    },
    {
      "cell_type": "code",
      "source": [
        "# question = \"Hi, how are you?\"\n",
        "# question = \"Who is the United States President? What is his current age raised divided by 2?\"\n",
        "question = \"What is the average age in the United States? How much less is that then the age of the current US President?\""
      ],
      "metadata": {
        "id": "Sj5R4WE2ymHT"
      },
      "execution_count": 59,
      "outputs": []
    },
    {
      "cell_type": "code",
      "source": [
        "result = agent_executor.invoke({\"input\": question, \"chat_history\": \"\"})\n",
        "print(result['output'])\n"
      ],
      "metadata": {
        "id": "QdKZ5I0oynEJ",
        "outputId": "85dbdcfb-f0f2-452e-a8e1-01f35ba93cc8",
        "colab": {
          "base_uri": "https://localhost:8080/"
        }
      },
      "execution_count": 61,
      "outputs": [
        {
          "output_type": "stream",
          "name": "stdout",
          "text": [
            "\n",
            "\n",
            "\u001b[1m> Entering new AgentExecutor chain...\u001b[0m\n",
            "\u001b[32;1m\u001b[1;3mThought: Do I need to use a tool? Yes\n",
            "Action: Search\n",
            "Action Input: Average age in the United States\u001b[0m\u001b[36;1m\u001b[1;3m[\"The U.S. is a country of 50 states covering a vast swath of North America, with Alaska in the northwest and Hawaii extending the nation’s presence into the Pacific Ocean. Major Atlantic Coast cities are New York, a global finance and culture center, and capital Washington, DC. Midwestern metropolis Chicago is known for influential architecture and on the west coast, Los Angeles' Hollywood is famed for filmmaking. ― Google\", 'United States type: Country in North America.', 'United States kgmid: /m/09c7w0.', 'United States capital: Washington, D.C..', 'United States co2_emissions_per_capita: 14.67 metric tons (2019).', 'United States electricity_consumption_per_capita: 12,993.97 kWh (2014).', 'United States energy_use_per_capita: 6,804.00 kg of oil equivalent (2015).', 'United States fertility_rate: 1.64 births per woman (2020).', 'United States gdp_growth_rate: 5.9% annual change (2021).', 'United States gross_domestic_product: 23.32 trillion USD (2021).', \"JUNE 22, 2023 — The nation's median age increased by 0.2 years to 38.9 years between 2021 and 2022, according to Vintage 2022 Population ...\", 'In 2022, the median age for the United States as a whole was 39 years, but the median age by state has a lot more variance. Some states have ...', \"The median age in the United States reached a record high of 38.9 in 2022, according to data released Thursday by the Census Bureau. It's a ...\", \"The median age in the U.S. reached a record high last year, rising to 38.9 years and it's likely only going up from here.\", 'In 2021, the median age of the population of the United States was 38.8 years.', 'Overall, the new data reveals that the median age of the US population rose from 35.2 in 2000 and 37.2 in 2010 to 38.8 in 2020. By state, Maine ...', 'Age and sex distribution edit · 0 – 14 years: 18.2% · 15 – 24 years: 13.0% · 25 – 54 years: 39.0% · 55 – 64 years: 12.9% · 65 years and over: 16.8%.', 'Among the 130 countries evaluated here, the USA are in 57th place with an median age of 38.5 years, led by Japan at 49.5 years. Niger has a median average age ...', 'Median Age. The median age in the United States is 38.1 years (2023).', 'The average age in the United States is 38.5 years old. This is a small increase from 38.2 in 2018. States in the western half of the United States tend to ...']\u001b[0m\u001b[32;1m\u001b[1;3mDo I need to use a tool? Yes\n",
            "Action: Search\n",
            "Action Input: Age of the current US President\u001b[0m\u001b[36;1m\u001b[1;3m81 years\u001b[0m\u001b[32;1m\u001b[1;3mDo I need to use a tool? No\n",
            "Final Answer: The average age in the United States is 38.5 years old, which is 42.5 years less than the age of the current US President (81 years).\u001b[0m\n",
            "\n",
            "\u001b[1m> Finished chain.\u001b[0m\n",
            "The average age in the United States is 38.5 years old, which is 42.5 years less than the age of the current US President (81 years).\n"
          ]
        }
      ]
    }
  ]
}